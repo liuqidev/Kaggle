{
 "cells": [
  {
   "cell_type": "code",
   "execution_count": 8,
   "metadata": {},
   "outputs": [],
   "source": [
    "import pandas as pd\n",
    "import numpy as np\n",
    "import matplotlib.pyplot as plt"
   ]
  },
  {
   "cell_type": "code",
   "execution_count": 11,
   "metadata": {},
   "outputs": [
    {
     "name": "stdout",
     "output_type": "stream",
     "text": [
      "['Dataset_Challenge_Dataset_Agreement.pdf', 'yelp_business.csv', 'yelp_business_attributes.csv', 'yelp_business_hours.csv', 'yelp_checkin.csv', 'yelp_review.csv', 'yelp_tip.csv', 'yelp_user.csv']\n"
     ]
    }
   ],
   "source": [
    "import os\n",
    "\n",
    "path= \"Datasets/yelp-dataset/\"\n",
    "print(os.listdir(path))"
   ]
  },
  {
   "cell_type": "code",
   "execution_count": 12,
   "metadata": {},
   "outputs": [
    {
     "name": "stdout",
     "output_type": "stream",
     "text": [
      "Datasets/yelp-dataset/\n"
     ]
    }
   ],
   "source": [
    "print(path)"
   ]
  },
  {
   "cell_type": "code",
   "execution_count": 13,
   "metadata": {},
   "outputs": [
    {
     "name": "stdout",
     "output_type": "stream",
     "text": [
      "                 review_id                 user_id             business_id  \\\n",
      "0   vkVSCC7xljjrAI4UGfnKEQ  bv2nCi5Qv5vroFiqKGopiw  AEx2SYEUJmTxVVB18LlCwA   \n",
      "1   n6QzIUObkYshz4dz2QRJTw  bv2nCi5Qv5vroFiqKGopiw  VR6GpWIda3SfvPC-lg9H3w   \n",
      "2   MV3CcKScW05u5LVfF6ok0g  bv2nCi5Qv5vroFiqKGopiw  CKC0-MOWMqoeWf6s-szl8g   \n",
      "3   IXvOzsEMYtiJI0CARmj77Q  bv2nCi5Qv5vroFiqKGopiw  ACFtxLv8pGrrxMm6EgjreA   \n",
      "4   L_9BTb55X0GDtThi6GlZ6w  bv2nCi5Qv5vroFiqKGopiw  s2I_Ni76bjJNK9yG60iD-Q   \n",
      "5   HRPm3vEZ_F-33TYVT7Pebw  _4iMDXbXZ1p1ONG297YEAQ  8QWPlVQ6D-OExqXoaD2Z1g   \n",
      "6   ymAUG8DZfQcFTBSOiaNN4w  u0LXt3Uea_GidxRW1xcsfg  9_CGhHMz8698M9-PkVf0CQ   \n",
      "7   8UIishPUD92hXtScSga_gw  u0LXt3Uea_GidxRW1xcsfg  gkCorLgPyQLsptTHalL61g   \n",
      "8   w41ZS9shepfO3uEyhXEWuQ  u0LXt3Uea_GidxRW1xcsfg  5r6-G9C4YLbC7Ziz57l3rQ   \n",
      "9   WF_QTN3p-thD74hqpp2j-Q  u0LXt3Uea_GidxRW1xcsfg  fDF_o2JPU8BR1Gya--jRIA   \n",
      "10  PIsUSmvaUWB00qv5KTF1xA  u0LXt3Uea_GidxRW1xcsfg  z8oIoCT1cXz7gZP5GeU5OA   \n",
      "11  PdZ_uFjbbkjtm3SCY_KrZw  u0LXt3Uea_GidxRW1xcsfg  XWTPNfskXoUL-Lf32wSk0Q   \n",
      "12  x5oV6wm9_Pb1QQ6jkjDjwQ  u0LXt3Uea_GidxRW1xcsfg  13nKUHH-uEUXVZylgxchPA   \n",
      "13  lsoSqIrrDbQvWpMvsSj2xw  u0LXt3Uea_GidxRW1xcsfg  RtUvSWO_UZ8V3Wpj0n077w   \n",
      "14  23eqwlZzCWZkADWfd9atZw  u0LXt3Uea_GidxRW1xcsfg  Aov96CM4FZAXeZvKtsStdA   \n",
      "15  FunI9om-aK5oMIIJmhMlZA  u0LXt3Uea_GidxRW1xcsfg  0W4lkclzZThpx3V65bVgig   \n",
      "16  FKu4iU62EmWT6GZXPJ2sgA  u0LXt3Uea_GidxRW1xcsfg  fdnNZMk1NP7ZhL-YMidMpw   \n",
      "17  xdu8nXrbNKeaywCX79KZSw  u0LXt3Uea_GidxRW1xcsfg  PFPUMF38-lraKzLcTiz5gQ   \n",
      "18  K7o5jDInfmX3cY5oH6ATNw  u0LXt3Uea_GidxRW1xcsfg  oWTn2IzrprsRkPfULtjZtQ   \n",
      "19  WYDFJOBOl7cycd7gN-c_xA  u0LXt3Uea_GidxRW1xcsfg  zgQHtqX0gqMw1nlBZl2VnQ   \n",
      "20  HSR2RLOifd0cvSNVqGXkMQ  u0LXt3Uea_GidxRW1xcsfg  28adZ4lsuUeVB2aWzohK9g   \n",
      "21  Kki2nwtP8U2qmWwRvPwLRA  u0LXt3Uea_GidxRW1xcsfg  RWGI8u00x5GghYCEzpYrIg   \n",
      "22  Q-mhDIKa3wJuWEx9uuciIA  u0LXt3Uea_GidxRW1xcsfg  Xy74meQwdTnloAAyRC-4cg   \n",
      "23  ypjtMQLKdAwKGRS-KU7oxA  u0LXt3Uea_GidxRW1xcsfg  hjk3ox7w1akbEuOgTJ03Bw   \n",
      "24  vr9YpzkaVdDIauxiZYZhqA  u0LXt3Uea_GidxRW1xcsfg  ZnxudK5ExgpfXs4bicS4IA   \n",
      "25  Ia-w-nR1FrlzsiuEiqqlbg  u0LXt3Uea_GidxRW1xcsfg  Eox_Qq74oaFZ-YjthpHhBw   \n",
      "26  y21Fom8a_SdAyC6I0v554w  u0LXt3Uea_GidxRW1xcsfg  zxJlg4XCHNoFy78WZPv89w   \n",
      "27  _ku1sDwkmQo2wIgWAaluZw  u0LXt3Uea_GidxRW1xcsfg  tOhRQqiupLyJdBJVQMGOEQ   \n",
      "28  Enuk_DJbK0JPmgbFU8ePKw  u0LXt3Uea_GidxRW1xcsfg  N93EYZy9R0sdlEvubu94ig   \n",
      "29  iYlepMJ6j4whB8gxiZm6mw  u0LXt3Uea_GidxRW1xcsfg  AIUFSIIdCEi3XoRJaxtDLQ   \n",
      "30  reeZj98t_X1DrZgQgFs9Kg  u0LXt3Uea_GidxRW1xcsfg  4_GIJk0tX3k0x0FcUv4sNA   \n",
      "31  z9e32TaBomM5uY7fHYqYKg  u0LXt3Uea_GidxRW1xcsfg  I8rveLd-dl81u6c8YqAxmw   \n",
      "32  rQgIiq1FJR8NwBJuWlUn7Q  u0LXt3Uea_GidxRW1xcsfg  a9aW5e731lplWGHUZ02-zQ   \n",
      "33  7GsVl-wMaSfG1VoEK6-s6g  u0LXt3Uea_GidxRW1xcsfg  3E5umUqaU5OZAV3jNLW3kQ   \n",
      "34  zEDdYhDYYfvd8bSQqpc_ww  u0LXt3Uea_GidxRW1xcsfg  0-yj2jtzLUHG2b7PpEHyog   \n",
      "35  b1Volwlw8gt_IGh9PhRQmw  u0LXt3Uea_GidxRW1xcsfg  N-11FCEppz5NVYZVM2G5yA   \n",
      "36  iFL5Iw972vd09fg87ElP9A  u0LXt3Uea_GidxRW1xcsfg  2QCZyAOB6xXKCdyFPvXXmw   \n",
      "37  pREKh8GSMq5UY9CqsnlQUQ  u0LXt3Uea_GidxRW1xcsfg  Tn8O4tv1U-n0PRC8kbJJPg   \n",
      "38  DcON7DHHHsvl8fByRl41MQ  u0LXt3Uea_GidxRW1xcsfg  vyeQzjZFx6KoL2pJBQ2QFA   \n",
      "39  sny_ekbd4i_1EBx1gwayXw  u0LXt3Uea_GidxRW1xcsfg  D2PmpZYRdRnzL7q4Wprf3Q   \n",
      "40  Tv-_7d1sa-6cPTZ20exTLA  u0LXt3Uea_GidxRW1xcsfg  7Uti5EeAwm3drG14KVrE3Q   \n",
      "41  uwp2sAXf5shT1ynRWo7sHg  u0LXt3Uea_GidxRW1xcsfg  BmSLyxm8b86dtzwuT7LqBA   \n",
      "42  gDBVb6Qdg5VAr2L95NEeFw  u0LXt3Uea_GidxRW1xcsfg  KpFc2FXm7OXLhoKgKDNz2g   \n",
      "43  Ebggx4Zlc4VWReJMG1nT6w  u0LXt3Uea_GidxRW1xcsfg  l1_S1mfGbEMxfT1f9omhEA   \n",
      "44  Q0j8DFqW_zWNa-H1QuuPgg  u0LXt3Uea_GidxRW1xcsfg  TrOgTZ0DfmQxvpTehiNibQ   \n",
      "45  EKAN4jw3LsE3631feSaA_g  u0LXt3Uea_GidxRW1xcsfg  pZ1quwXnYozLIZIVABojhw   \n",
      "46  51TLGhFncBnppaBN5vHlcw  u0LXt3Uea_GidxRW1xcsfg  Uq-GOs9_IqweUsB5MdII9w   \n",
      "47  zo84NPvoDgm1W9poSCjPQQ  u0LXt3Uea_GidxRW1xcsfg  3vs6rARRBm-O99y4bryilw   \n",
      "48  0wsN8ZT101c8LhqwQZJjvw  u0LXt3Uea_GidxRW1xcsfg  kRdzgq-hr3amtTkQR-U7dw   \n",
      "49  O4RZMP8IFyJTNfRp0QXEsw  u0LXt3Uea_GidxRW1xcsfg  vcxvQyAggPqxcHwvJXvjGg   \n",
      "\n",
      "    stars        date                                               text  \\\n",
      "0       5  2016-05-28  Super simple place but amazing nonetheless. It...   \n",
      "1       5  2016-05-28  Small unassuming place that changes their menu...   \n",
      "2       5  2016-05-28  Lester's is located in a beautiful neighborhoo...   \n",
      "3       4  2016-05-28  Love coming here. Yes the place always needs t...   \n",
      "4       4  2016-05-28  Had their chocolate almond croissant and it wa...   \n",
      "5       5  2014-09-24  Cycle Pub Las Vegas was a blast! Got a groupon...   \n",
      "6       4  2012-05-11  Who would have guess that you would be able to...   \n",
      "7       4  2015-10-27  Always drove past this coffee house and wonder...   \n",
      "8       3  2013-02-09  Not bad!! Love that there is a gluten-free, ve...   \n",
      "9       5  2016-04-06  Love this place!\\n\\nPeggy is great with dogs a...   \n",
      "10      4  2013-05-01  This is currently my parents new favourite res...   \n",
      "11      3  2011-09-28  Server was a little rude.\\n\\nOrdered the calam...   \n",
      "12      1  2011-02-16  I thought Tidy's Flowers had a great reputatio...   \n",
      "13      3  2012-12-03  Wanted to check out this place due to all the ...   \n",
      "14      5  2010-07-16  This place is awesome! Definitely authentic!!!...   \n",
      "15      4  2011-09-28  a must stop when you are in montreal!\\n\\nI was...   \n",
      "16      1  2012-10-23  I too have been trying to book an appt to use ...   \n",
      "17      3  2010-09-15  Came here with my girlfriends one Sunday after...   \n",
      "18      3  2012-09-23  Came here for a burger as one of my friends sa...   \n",
      "19      1  2012-10-30  really excited to hear of this restaurant comi...   \n",
      "20      3  2012-10-19  was always intrigued of this place when I pass...   \n",
      "21      4  2011-10-14  This place reminds of St Lawrence Market in To...   \n",
      "22      3  2013-07-01  burgers are very big portions here.\\n\\ndefinit...   \n",
      "23      1  2012-05-10  Food is very bland - not authentic at all.\\n\\n...   \n",
      "24      3  2012-09-23  While looking at different restaurants in the ...   \n",
      "25      3  2011-07-18  Service is really slow here. I waited for over...   \n",
      "26      2  2011-09-28  a few years ago, this used to be the place to ...   \n",
      "27      5  2012-09-23  OMG - Definitely worth going if you are in Mon...   \n",
      "28      3  2012-09-23  Not sure what the hype is, but decided to give...   \n",
      "29      4  2016-04-12  Love the selection of winter gear here for my ...   \n",
      "30      4  2010-07-26  Hidden on the east end of the Danforth is a lo...   \n",
      "31      1  2012-05-11  If you have not yet tried Wasabi - don't bothe...   \n",
      "32      4  2013-02-09  Decided to try this place after reading the re...   \n",
      "33      4  2017-11-02  Great place to bring dogs! It's really a dog p...   \n",
      "34      4  2010-01-15  Hidden in the east end of the Danforth, who kn...   \n",
      "35      5  2016-02-08  This review is mainly for the pool only.\\n\\nLo...   \n",
      "36      4  2013-09-01  It's 3.5 stars but since I can't give half sta...   \n",
      "37      4  2016-04-06  Great place in Chinatown to get banh mi! Just ...   \n",
      "38      4  2011-02-16  Very busy place here on a Friday night. Defini...   \n",
      "39      4  2014-09-11  cute place on a side street - really only serv...   \n",
      "40      2  2010-03-31  Atmosphere for this restaurant is nice but ser...   \n",
      "41      4  2014-03-03  The loud banging always draws crowds as you wa...   \n",
      "42      4  2013-05-01  found this bakery while wandering on Queen Str...   \n",
      "43      1  2017-10-16  Terrible service and not so great drinks.\\n\\nW...   \n",
      "44      1  2011-05-10  worse customer service ever. \\nManager on duty...   \n",
      "45      4  2012-09-23  My boyfriend took me here for my birthday. At ...   \n",
      "46      4  2014-08-21  OMG - came here with some friends for Brunch a...   \n",
      "47      4  2012-08-20  Great Japanese restaurant in the Bloor and Chu...   \n",
      "48      4  2013-05-01  they have some pretty interesting things here!...   \n",
      "49      4  2017-01-04  Love this place!\\n\\nThe cakes are delicious bu...   \n",
      "\n",
      "    useful  funny  cool  \n",
      "0        0      0     0  \n",
      "1        0      0     0  \n",
      "2        0      0     0  \n",
      "3        0      0     0  \n",
      "4        0      0     0  \n",
      "5        1      0     0  \n",
      "6        0      0     2  \n",
      "7        1      0     0  \n",
      "8        1      0     0  \n",
      "9        3      0     0  \n",
      "10       1      0     0  \n",
      "11       5      0     1  \n",
      "12       9      0     1  \n",
      "13       2      1     1  \n",
      "14       2      0     1  \n",
      "15       0      0     0  \n",
      "16       0      0     0  \n",
      "17       2      0     0  \n",
      "18       4      0     0  \n",
      "19       9      2     1  \n",
      "20       1      0     0  \n",
      "21       0      0     1  \n",
      "22       0      0     0  \n",
      "23       4      2     0  \n",
      "24       0      0     1  \n",
      "25       1      1     1  \n",
      "26       0      0     0  \n",
      "27       1      1     1  \n",
      "28       0      0     0  \n",
      "29       0      0     0  \n",
      "30       4      0     0  \n",
      "31       3      0     0  \n",
      "32       0      0     0  \n",
      "33       0      0     0  \n",
      "34       1      0     1  \n",
      "35       0      0     0  \n",
      "36       0      0     0  \n",
      "37       0      0     0  \n",
      "38       0      0     1  \n",
      "39       0      0     0  \n",
      "40       8      0     0  \n",
      "41       1      0     1  \n",
      "42       0      0     0  \n",
      "43       0      0     0  \n",
      "44      11      5     5  \n",
      "45       0      0     0  \n",
      "46       0      0     0  \n",
      "47       2      0     0  \n",
      "48       0      0     0  \n",
      "49       0      0     0  \n"
     ]
    }
   ],
   "source": [
    "review = pd.read_csv(path+\"yelp_review.csv\", header=0, skiprows=range(0, 0), nrows=50)\n",
    "# user = pd.read_csv(path+\"yelp_user.csv\")\n",
    "# tip = pd.read_csv(path+\"yelp_tip.csv\")\n",
    "# checkin = pd.read_csv(path+\"yelp_checkin.csv\")\n",
    "# business = pd.read_csv(path+\"yelp_business.csv\")\n",
    "# business_attribute = pd.read_csv(path+\"yelp_business_attributes.csv\")\n",
    "# business_hours = pd.read_csv(path+\"yelp_business_hours.csv\")\n",
    "# business_hours = pd.read_csv(path+\"yelp_business_hours.csv\")\n",
    "\n",
    "\n",
    "\n",
    "print(review)\n",
    "# business_hours.describe()"
   ]
  },
  {
   "cell_type": "code",
   "execution_count": 15,
   "metadata": {},
   "outputs": [
    {
     "data": {
      "text/plain": [
       "['review_id',\n",
       " 'user_id',\n",
       " 'business_id',\n",
       " 'stars',\n",
       " 'date',\n",
       " 'text',\n",
       " 'useful',\n",
       " 'funny',\n",
       " 'cool']"
      ]
     },
     "execution_count": 15,
     "metadata": {},
     "output_type": "execute_result"
    }
   ],
   "source": [
    "review.columns.tolist()"
   ]
  },
  {
   "cell_type": "code",
   "execution_count": 5,
   "metadata": {},
   "outputs": [],
   "source": [
    "import seaborn as sns"
   ]
  },
  {
   "cell_type": "code",
   "execution_count": 6,
   "metadata": {},
   "outputs": [
    {
     "data": {
      "text/html": [
       "<div>\n",
       "<style scoped>\n",
       "    .dataframe tbody tr th:only-of-type {\n",
       "        vertical-align: middle;\n",
       "    }\n",
       "\n",
       "    .dataframe tbody tr th {\n",
       "        vertical-align: top;\n",
       "    }\n",
       "\n",
       "    .dataframe thead th {\n",
       "        text-align: right;\n",
       "    }\n",
       "</style>\n",
       "<table border=\"1\" class=\"dataframe\">\n",
       "  <thead>\n",
       "    <tr style=\"text-align: right;\">\n",
       "      <th></th>\n",
       "      <th>stars</th>\n",
       "      <th>useful</th>\n",
       "      <th>funny</th>\n",
       "      <th>cool</th>\n",
       "    </tr>\n",
       "  </thead>\n",
       "  <tbody>\n",
       "    <tr>\n",
       "      <th>count</th>\n",
       "      <td>50.000000</td>\n",
       "      <td>50.000000</td>\n",
       "      <td>50.000000</td>\n",
       "      <td>50.000000</td>\n",
       "    </tr>\n",
       "    <tr>\n",
       "      <th>mean</th>\n",
       "      <td>3.500000</td>\n",
       "      <td>1.060000</td>\n",
       "      <td>0.220000</td>\n",
       "      <td>0.340000</td>\n",
       "    </tr>\n",
       "    <tr>\n",
       "      <th>std</th>\n",
       "      <td>1.129385</td>\n",
       "      <td>2.333518</td>\n",
       "      <td>0.815413</td>\n",
       "      <td>0.823383</td>\n",
       "    </tr>\n",
       "    <tr>\n",
       "      <th>min</th>\n",
       "      <td>1.000000</td>\n",
       "      <td>0.000000</td>\n",
       "      <td>0.000000</td>\n",
       "      <td>0.000000</td>\n",
       "    </tr>\n",
       "    <tr>\n",
       "      <th>25%</th>\n",
       "      <td>3.000000</td>\n",
       "      <td>0.000000</td>\n",
       "      <td>0.000000</td>\n",
       "      <td>0.000000</td>\n",
       "    </tr>\n",
       "    <tr>\n",
       "      <th>50%</th>\n",
       "      <td>4.000000</td>\n",
       "      <td>0.000000</td>\n",
       "      <td>0.000000</td>\n",
       "      <td>0.000000</td>\n",
       "    </tr>\n",
       "    <tr>\n",
       "      <th>75%</th>\n",
       "      <td>4.000000</td>\n",
       "      <td>1.000000</td>\n",
       "      <td>0.000000</td>\n",
       "      <td>0.000000</td>\n",
       "    </tr>\n",
       "    <tr>\n",
       "      <th>max</th>\n",
       "      <td>5.000000</td>\n",
       "      <td>11.000000</td>\n",
       "      <td>5.000000</td>\n",
       "      <td>5.000000</td>\n",
       "    </tr>\n",
       "  </tbody>\n",
       "</table>\n",
       "</div>"
      ],
      "text/plain": [
       "           stars     useful      funny       cool\n",
       "count  50.000000  50.000000  50.000000  50.000000\n",
       "mean    3.500000   1.060000   0.220000   0.340000\n",
       "std     1.129385   2.333518   0.815413   0.823383\n",
       "min     1.000000   0.000000   0.000000   0.000000\n",
       "25%     3.000000   0.000000   0.000000   0.000000\n",
       "50%     4.000000   0.000000   0.000000   0.000000\n",
       "75%     4.000000   1.000000   0.000000   0.000000\n",
       "max     5.000000  11.000000   5.000000   5.000000"
      ]
     },
     "execution_count": 6,
     "metadata": {},
     "output_type": "execute_result"
    }
   ],
   "source": [
    "review.describe()"
   ]
  },
  {
   "cell_type": "code",
   "execution_count": 7,
   "metadata": {},
   "outputs": [],
   "source": [
    "def basic_details(df):\n",
    "    print('Row:{0} Column:{1}'.format(df.shape[0], df.shape[1]))\n",
    "    d = pd.DataFrame()\n",
    "    d['Number of unique'] = df.nunique()\n",
    "    d['Number of missing'] = df.isnull().sum()\n",
    "    d['Datatype'] = df.dtypes\n",
    "    \n",
    "    return d"
   ]
  },
  {
   "cell_type": "code",
   "execution_count": 46,
   "metadata": {},
   "outputs": [
    {
     "name": "stdout",
     "output_type": "stream",
     "text": [
      "Row:50 Column:9\n",
      "             Number of unique  Number of missing Datatype\n",
      "review_id                  50                  0   object\n",
      "user_id                     3                  0   object\n",
      "business_id                50                  0   object\n",
      "stars                       5                  0    int64\n",
      "date                       34                  0   object\n",
      "text                       50                  0   object\n",
      "useful                      9                  0    int64\n",
      "funny                       4                  0    int64\n",
      "cool                        4                  0    int64\n"
     ]
    }
   ],
   "source": [
    "details_frame = basic_details(review)\n",
    "print(details_frame)"
   ]
  },
  {
   "cell_type": "code",
   "execution_count": 36,
   "metadata": {},
   "outputs": [
    {
     "data": {
      "text/plain": [
       "review_id      50\n",
       "user_id         3\n",
       "business_id    50\n",
       "stars           5\n",
       "date           34\n",
       "text           50\n",
       "useful          8\n",
       "funny           4\n",
       "cool            4\n",
       "dtype: int64"
      ]
     },
     "execution_count": 36,
     "metadata": {},
     "output_type": "execute_result"
    }
   ],
   "source": [
    "review.nunique()"
   ]
  },
  {
   "cell_type": "code",
   "execution_count": null,
   "metadata": {},
   "outputs": [],
   "source": []
  },
  {
   "cell_type": "code",
   "execution_count": 56,
   "metadata": {},
   "outputs": [
    {
     "data": {
      "image/png": "[encoded data removed]",
      "text/plain": [
       "<Figure size 864x576 with 1 Axes>"
      ]
     },
     "metadata": {},
     "output_type": "display_data"
    }
   ],
   "source": [
    "plt.figure(figsize=(12,8))\n",
    "sns.set(style=\"darkgrid\")\n",
    "ax = sns.countplot(x=review['stars'])\n",
    "plt.ylabel(\"Count\",fontsize=16)\n",
    "plt.xlabel(\"Stars\",fontsize=16)\n",
    "plt.title('Distribution of stars', fontsize=16)\n",
    "plt.savefig('distibution_of_stars.png')"
   ]
  },
  {
   "cell_type": "code",
   "execution_count": null,
   "metadata": {},
   "outputs": [],
   "source": []
  },
  {
   "cell_type": "markdown",
   "metadata": {},
   "source": [
    "上面的只是开胃小菜，下面将使用聚类算法对上面的评论按照内容进行聚类，计划分成5个簇，最后将分簇的统计结果和实际所在簇进行对比，判断聚类的效果。\n",
    "\n",
    "## 进行K-means算法简单聚类"
   ]
  },
  {
   "cell_type": "code",
   "execution_count": 10,
   "metadata": {},
   "outputs": [],
   "source": [
    "import nltk\n",
    "from nltk.corpus import stopwords "
   ]
  },
  {
   "cell_type": "code",
   "execution_count": 11,
   "metadata": {},
   "outputs": [
    {
     "name": "stdout",
     "output_type": "stream",
     "text": [
      "['i', 'me', 'my', 'myself', 'we', 'our', 'ours', 'ourselves', 'you', \"you're\"]\n"
     ]
    }
   ],
   "source": [
    "# 载入nltk中的英文体用词作为“stopwords”\n",
    "stop_words=stopwords.words('english')\n",
    "print(stop_words[:10])"
   ]
  },
  {
   "cell_type": "code",
   "execution_count": 12,
   "metadata": {},
   "outputs": [],
   "source": [
    "from nltk.stem.snowball import SnowballStemmer\n",
    "stemmer = SnowballStemmer('english')   # 词干化（将英文单词变成原型）"
   ]
  },
  {
   "cell_type": "code",
   "execution_count": 13,
   "metadata": {},
   "outputs": [],
   "source": [
    "# 分词，即断句\n",
    "tmp_text = review.text[:10]\n"
   ]
  },
  {
   "cell_type": "code",
   "execution_count": 14,
   "metadata": {},
   "outputs": [
    {
     "name": "stdout",
     "output_type": "stream",
     "text": [
      "Super simple place but amazing nonetheless. It's been around since the 30's and they still serve the same thing they started with: a bologna and salami sandwich with mustard. \n",
      "\n",
      "Staff was very helpful and friendly.\n"
     ]
    }
   ],
   "source": [
    "print(tmp_text[0])"
   ]
  },
  {
   "cell_type": "code",
   "execution_count": 15,
   "metadata": {},
   "outputs": [
    {
     "data": {
      "text/plain": [
       "['Super simple place but amazing nonetheless.',\n",
       " \"It's been around since the 30's and they still serve the same thing they started with: a bologna and salami sandwich with mustard.\",\n",
       " 'Staff was very helpful and friendly.']"
      ]
     },
     "execution_count": 15,
     "metadata": {},
     "output_type": "execute_result"
    }
   ],
   "source": [
    "nltk.sent_tokenize(tmp_text[0])"
   ]
  },
  {
   "cell_type": "code",
   "execution_count": 16,
   "metadata": {},
   "outputs": [
    {
     "data": {
      "text/plain": [
       "179"
      ]
     },
     "execution_count": 16,
     "metadata": {},
     "output_type": "execute_result"
    }
   ],
   "source": [
    "len(stop_words)"
   ]
  },
  {
   "cell_type": "code",
   "execution_count": 17,
   "metadata": {},
   "outputs": [
    {
     "data": {
      "text/plain": [
       "pandas.core.frame.DataFrame"
      ]
     },
     "execution_count": 17,
     "metadata": {},
     "output_type": "execute_result"
    }
   ],
   "source": [
    "type(review)"
   ]
  },
  {
   "cell_type": "code",
   "execution_count": 18,
   "metadata": {},
   "outputs": [
    {
     "data": {
      "text/plain": [
       "True"
      ]
     },
     "execution_count": 18,
     "metadata": {},
     "output_type": "execute_result"
    }
   ],
   "source": [
    "type(review)==pd.core.frame.DataFrame"
   ]
  },
  {
   "cell_type": "code",
   "execution_count": 19,
   "metadata": {},
   "outputs": [
    {
     "data": {
      "text/html": [
       "<div>\n",
       "<style scoped>\n",
       "    .dataframe tbody tr th:only-of-type {\n",
       "        vertical-align: middle;\n",
       "    }\n",
       "\n",
       "    .dataframe tbody tr th {\n",
       "        vertical-align: top;\n",
       "    }\n",
       "\n",
       "    .dataframe thead th {\n",
       "        text-align: right;\n",
       "    }\n",
       "</style>\n",
       "<table border=\"1\" class=\"dataframe\">\n",
       "  <thead>\n",
       "    <tr style=\"text-align: right;\">\n",
       "      <th></th>\n",
       "      <th>Number of unique</th>\n",
       "      <th>Number of missing</th>\n",
       "      <th>Datatype</th>\n",
       "    </tr>\n",
       "  </thead>\n",
       "  <tbody>\n",
       "    <tr>\n",
       "      <th>review_id</th>\n",
       "      <td>50</td>\n",
       "      <td>0</td>\n",
       "      <td>object</td>\n",
       "    </tr>\n",
       "    <tr>\n",
       "      <th>user_id</th>\n",
       "      <td>3</td>\n",
       "      <td>0</td>\n",
       "      <td>object</td>\n",
       "    </tr>\n",
       "    <tr>\n",
       "      <th>business_id</th>\n",
       "      <td>50</td>\n",
       "      <td>0</td>\n",
       "      <td>object</td>\n",
       "    </tr>\n",
       "    <tr>\n",
       "      <th>stars</th>\n",
       "      <td>5</td>\n",
       "      <td>0</td>\n",
       "      <td>int64</td>\n",
       "    </tr>\n",
       "    <tr>\n",
       "      <th>date</th>\n",
       "      <td>34</td>\n",
       "      <td>0</td>\n",
       "      <td>object</td>\n",
       "    </tr>\n",
       "    <tr>\n",
       "      <th>text</th>\n",
       "      <td>50</td>\n",
       "      <td>0</td>\n",
       "      <td>object</td>\n",
       "    </tr>\n",
       "    <tr>\n",
       "      <th>useful</th>\n",
       "      <td>8</td>\n",
       "      <td>0</td>\n",
       "      <td>int64</td>\n",
       "    </tr>\n",
       "    <tr>\n",
       "      <th>funny</th>\n",
       "      <td>4</td>\n",
       "      <td>0</td>\n",
       "      <td>int64</td>\n",
       "    </tr>\n",
       "    <tr>\n",
       "      <th>cool</th>\n",
       "      <td>4</td>\n",
       "      <td>0</td>\n",
       "      <td>int64</td>\n",
       "    </tr>\n",
       "  </tbody>\n",
       "</table>\n",
       "</div>"
      ],
      "text/plain": [
       "             Number of unique  Number of missing Datatype\n",
       "review_id                  50                  0   object\n",
       "user_id                     3                  0   object\n",
       "business_id                50                  0   object\n",
       "stars                       5                  0    int64\n",
       "date                       34                  0   object\n",
       "text                       50                  0   object\n",
       "useful                      8                  0    int64\n",
       "funny                       4                  0    int64\n",
       "cool                        4                  0    int64"
      ]
     },
     "execution_count": 19,
     "metadata": {},
     "output_type": "execute_result"
    }
   ],
   "source": [
    "details_frame"
   ]
  },
  {
   "cell_type": "code",
   "execution_count": 20,
   "metadata": {},
   "outputs": [
    {
     "data": {
      "text/plain": [
       "50"
      ]
     },
     "execution_count": 20,
     "metadata": {},
     "output_type": "execute_result"
    }
   ],
   "source": [
    "details_frame.iloc[0, 0]"
   ]
  },
  {
   "cell_type": "code",
   "execution_count": 34,
   "metadata": {},
   "outputs": [
    {
     "data": {
      "text/plain": [
       "numpy.dtype"
      ]
     },
     "execution_count": 34,
     "metadata": {},
     "output_type": "execute_result"
    }
   ],
   "source": [
    "type(details_frame.iloc[0, 2])"
   ]
  },
  {
   "cell_type": "code",
   "execution_count": 26,
   "metadata": {},
   "outputs": [
    {
     "data": {
      "text/plain": [
       "numpy.dtype"
      ]
     },
     "execution_count": 26,
     "metadata": {},
     "output_type": "execute_result"
    }
   ],
   "source": [
    "details_frame.iloc[0, 2]"
   ]
  },
  {
   "cell_type": "code",
   "execution_count": 27,
   "metadata": {},
   "outputs": [
    {
     "data": {
      "text/plain": [
       "True"
      ]
     },
     "execution_count": 27,
     "metadata": {},
     "output_type": "execute_result"
    }
   ],
   "source": [
    "details_frame.iloc[0, 2] ==np.dtype"
   ]
  },
  {
   "cell_type": "code",
   "execution_count": 28,
   "metadata": {},
   "outputs": [
    {
     "data": {
      "text/plain": [
       "False"
      ]
     },
     "execution_count": 28,
     "metadata": {},
     "output_type": "execute_result"
    }
   ],
   "source": [
    "details_frame.iloc[0, 1] ==np.dtype"
   ]
  },
  {
   "cell_type": "code",
   "execution_count": 31,
   "metadata": {},
   "outputs": [
    {
     "data": {
      "text/plain": [
       "numpy.int64"
      ]
     },
     "execution_count": 31,
     "metadata": {},
     "output_type": "execute_result"
    }
   ],
   "source": [
    "type(details_frame.iloc[3, 1] )"
   ]
  },
  {
   "cell_type": "code",
   "execution_count": 33,
   "metadata": {},
   "outputs": [
    {
     "data": {
      "text/plain": [
       "True"
      ]
     },
     "execution_count": 33,
     "metadata": {},
     "output_type": "execute_result"
    }
   ],
   "source": [
    "type(details_frame.iloc[3, 1])==np.int64"
   ]
  },
  {
   "cell_type": "code",
   "execution_count": 35,
   "metadata": {},
   "outputs": [
    {
     "data": {
      "text/plain": [
       "Number of unique      int64\n",
       "Number of missing     int64\n",
       "Datatype             object\n",
       "dtype: object"
      ]
     },
     "execution_count": 35,
     "metadata": {},
     "output_type": "execute_result"
    }
   ],
   "source": [
    "details_frame.dtypes"
   ]
  },
  {
   "cell_type": "code",
   "execution_count": 41,
   "metadata": {},
   "outputs": [
    {
     "name": "stdout",
     "output_type": "stream",
     "text": [
      "1539519371.736606\n",
      "2018-10-14 20:16:11\n",
      "当前的日期和时间是 2018-10-14 20:16:11.737596\n",
      "ISO格式的日期和时间是 2018-10-14T20:16:11.737596\n",
      "当前的年份是 2018\n",
      "当前的月份是 10\n",
      "当前的日期是  14\n",
      "dd/mm/yyyy 格式是  14/10/2018\n",
      "当前小时是 20\n",
      "当前分钟是 16\n",
      "当前秒是  11\n"
     ]
    }
   ],
   "source": [
    "import time\n",
    "print(time.time())\n",
    "print(time.strftime(\"%Y-%m-%d %H:%M:%S\", time.localtime()))\n",
    "time.strftime(\"%Y-%m-%d %H:%M:%S\", time.localtime())\n",
    "\n",
    "import datetime\n",
    "i = datetime.datetime.now()\n",
    "print (\"当前的日期和时间是 %s\" % i)\n",
    "print (\"ISO格式的日期和时间是 %s\" % i.isoformat() )\n",
    "print (\"当前的年份是 %s\" %i.year)\n",
    "print (\"当前的月份是 %s\" %i.month)\n",
    "print (\"当前的日期是  %s\" %i.day)\n",
    "print (\"dd/mm/yyyy 格式是  %s/%s/%s\" % (i.day, i.month, i.year) )\n",
    "print (\"当前小时是 %s\" %i.hour)\n",
    "print (\"当前分钟是 %s\" %i.minute)\n",
    "print (\"当前秒是  %s\" %i.second)"
   ]
  },
  {
   "cell_type": "code",
   "execution_count": 42,
   "metadata": {},
   "outputs": [
    {
     "data": {
      "text/plain": [
       "range(0, 0)"
      ]
     },
     "execution_count": 42,
     "metadata": {},
     "output_type": "execute_result"
    }
   ],
   "source": [
    "range(0, 0)"
   ]
  },
  {
   "cell_type": "code",
   "execution_count": 43,
   "metadata": {},
   "outputs": [
    {
     "name": "stdout",
     "output_type": "stream",
     "text": [
      "range(0, 0)\n"
     ]
    }
   ],
   "source": [
    "print(range(0, 0))"
   ]
  },
  {
   "cell_type": "code",
   "execution_count": 7,
   "metadata": {},
   "outputs": [
    {
     "name": "stdout",
     "output_type": "stream",
     "text": [
      "c 4\n",
      "a 3\n",
      "d 1\n",
      "b 2\n"
     ]
    }
   ],
   "source": [
    "import pandas as pd\n",
    "import numpy as np\n",
    "import matplotlib.pyplot as plt\n",
    "import seaborn as sns\n",
    "\n",
    "\n",
    "obj=pd.Series(['c','a','d','a','a','b','b','c','c','c'])\n",
    "# print(obj.unique())\n",
    "count={}\n",
    "for i in obj:\n",
    "#     print(type(i))\n",
    "#     break\n",
    "#     print(i)\n",
    "    if i not in count.keys():\n",
    "        count[i] =1\n",
    "    else:\n",
    "        count[i]+=1\n",
    "\n",
    "for k in count.keys():\n",
    "    print(k, count[k])"
   ]
  },
  {
   "cell_type": "code",
   "execution_count": 9,
   "metadata": {},
   "outputs": [
    {
     "name": "stdout",
     "output_type": "stream",
     "text": [
      "Help on function read_csv in module pandas.io.parsers:\n",
      "\n",
      "read_csv(filepath_or_buffer, sep=',', delimiter=None, header='infer', names=None, index_col=None, usecols=None, squeeze=False, prefix=None, mangle_dupe_cols=True, dtype=None, engine=None, converters=None, true_values=None, false_values=None, skipinitialspace=False, skiprows=None, nrows=None, na_values=None, keep_default_na=True, na_filter=True, verbose=False, skip_blank_lines=True, parse_dates=False, infer_datetime_format=False, keep_date_col=False, date_parser=None, dayfirst=False, iterator=False, chunksize=None, compression='infer', thousands=None, decimal=b'.', lineterminator=None, quotechar='\"', quoting=0, escapechar=None, comment=None, encoding=None, dialect=None, tupleize_cols=None, error_bad_lines=True, warn_bad_lines=True, skipfooter=0, doublequote=True, delim_whitespace=False, low_memory=True, memory_map=False, float_precision=None)\n",
      "    Read CSV (comma-separated) file into DataFrame\n",
      "    \n",
      "    Also supports optionally iterating or breaking of the file\n",
      "    into chunks.\n",
      "    \n",
      "    Additional help can be found in the `online docs for IO Tools\n",
      "    <http://pandas.pydata.org/pandas-docs/stable/io.html>`_.\n",
      "    \n",
      "    Parameters\n",
      "    ----------\n",
      "    filepath_or_buffer : str, pathlib.Path, py._path.local.LocalPath or any \\\n",
      "    object with a read() method (such as a file handle or StringIO)\n",
      "        The string could be a URL. Valid URL schemes include http, ftp, s3, and\n",
      "        file. For file URLs, a host is expected. For instance, a local file could\n",
      "        be file://localhost/path/to/table.csv\n",
      "    sep : str, default ','\n",
      "        Delimiter to use. If sep is None, the C engine cannot automatically detect\n",
      "        the separator, but the Python parsing engine can, meaning the latter will\n",
      "        be used and automatically detect the separator by Python's builtin sniffer\n",
      "        tool, ``csv.Sniffer``. In addition, separators longer than 1 character and\n",
      "        different from ``'\\s+'`` will be interpreted as regular expressions and\n",
      "        will also force the use of the Python parsing engine. Note that regex\n",
      "        delimiters are prone to ignoring quoted data. Regex example: ``'\\r\\t'``\n",
      "    delimiter : str, default ``None``\n",
      "        Alternative argument name for sep.\n",
      "    delim_whitespace : boolean, default False\n",
      "        Specifies whether or not whitespace (e.g. ``' '`` or ``'\\t'``) will be\n",
      "        used as the sep. Equivalent to setting ``sep='\\s+'``. If this option\n",
      "        is set to True, nothing should be passed in for the ``delimiter``\n",
      "        parameter.\n",
      "    \n",
      "        .. versionadded:: 0.18.1 support for the Python parser.\n",
      "    \n",
      "    header : int or list of ints, default 'infer'\n",
      "        Row number(s) to use as the column names, and the start of the\n",
      "        data.  Default behavior is to infer the column names: if no names\n",
      "        are passed the behavior is identical to ``header=0`` and column\n",
      "        names are inferred from the first line of the file, if column\n",
      "        names are passed explicitly then the behavior is identical to\n",
      "        ``header=None``. Explicitly pass ``header=0`` to be able to\n",
      "        replace existing names. The header can be a list of integers that\n",
      "        specify row locations for a multi-index on the columns\n",
      "        e.g. [0,1,3]. Intervening rows that are not specified will be\n",
      "        skipped (e.g. 2 in this example is skipped). Note that this\n",
      "        parameter ignores commented lines and empty lines if\n",
      "        ``skip_blank_lines=True``, so header=0 denotes the first line of\n",
      "        data rather than the first line of the file.\n",
      "    names : array-like, default None\n",
      "        List of column names to use. If file contains no header row, then you\n",
      "        should explicitly pass header=None. Duplicates in this list will cause\n",
      "        a ``UserWarning`` to be issued.\n",
      "    index_col : int or sequence or False, default None\n",
      "        Column to use as the row labels of the DataFrame. If a sequence is given, a\n",
      "        MultiIndex is used. If you have a malformed file with delimiters at the end\n",
      "        of each line, you might consider index_col=False to force pandas to _not_\n",
      "        use the first column as the index (row names)\n",
      "    usecols : list-like or callable, default None\n",
      "        Return a subset of the columns. If list-like, all elements must either\n",
      "        be positional (i.e. integer indices into the document columns) or strings\n",
      "        that correspond to column names provided either by the user in `names` or\n",
      "        inferred from the document header row(s). For example, a valid list-like\n",
      "        `usecols` parameter would be [0, 1, 2] or ['foo', 'bar', 'baz']. Element\n",
      "        order is ignored, so ``usecols=[0, 1]`` is the same as ``[1, 0]``.\n",
      "        To instantiate a DataFrame from ``data`` with element order preserved use\n",
      "        ``pd.read_csv(data, usecols=['foo', 'bar'])[['foo', 'bar']]`` for columns\n",
      "        in ``['foo', 'bar']`` order or\n",
      "        ``pd.read_csv(data, usecols=['foo', 'bar'])[['bar', 'foo']]``\n",
      "        for ``['bar', 'foo']`` order.\n",
      "    \n",
      "        If callable, the callable function will be evaluated against the column\n",
      "        names, returning names where the callable function evaluates to True. An\n",
      "        example of a valid callable argument would be ``lambda x: x.upper() in\n",
      "        ['AAA', 'BBB', 'DDD']``. Using this parameter results in much faster\n",
      "        parsing time and lower memory usage.\n",
      "    squeeze : boolean, default False\n",
      "        If the parsed data only contains one column then return a Series\n",
      "    prefix : str, default None\n",
      "        Prefix to add to column numbers when no header, e.g. 'X' for X0, X1, ...\n",
      "    mangle_dupe_cols : boolean, default True\n",
      "        Duplicate columns will be specified as 'X', 'X.1', ...'X.N', rather than\n",
      "        'X'...'X'. Passing in False will cause data to be overwritten if there\n",
      "        are duplicate names in the columns.\n",
      "    dtype : Type name or dict of column -> type, default None\n",
      "        Data type for data or columns. E.g. {'a': np.float64, 'b': np.int32}\n",
      "        Use `str` or `object` together with suitable `na_values` settings\n",
      "        to preserve and not interpret dtype.\n",
      "        If converters are specified, they will be applied INSTEAD\n",
      "        of dtype conversion.\n",
      "    engine : {'c', 'python'}, optional\n",
      "        Parser engine to use. The C engine is faster while the python engine is\n",
      "        currently more feature-complete.\n",
      "    converters : dict, default None\n",
      "        Dict of functions for converting values in certain columns. Keys can either\n",
      "        be integers or column labels\n",
      "    true_values : list, default None\n",
      "        Values to consider as True\n",
      "    false_values : list, default None\n",
      "        Values to consider as False\n",
      "    skipinitialspace : boolean, default False\n",
      "        Skip spaces after delimiter.\n",
      "    skiprows : list-like or integer or callable, default None\n",
      "        Line numbers to skip (0-indexed) or number of lines to skip (int)\n",
      "        at the start of the file.\n",
      "    \n",
      "        If callable, the callable function will be evaluated against the row\n",
      "        indices, returning True if the row should be skipped and False otherwise.\n",
      "        An example of a valid callable argument would be ``lambda x: x in [0, 2]``.\n",
      "    skipfooter : int, default 0\n",
      "        Number of lines at bottom of file to skip (Unsupported with engine='c')\n",
      "    nrows : int, default None\n",
      "        Number of rows of file to read. Useful for reading pieces of large files\n",
      "    na_values : scalar, str, list-like, or dict, default None\n",
      "        Additional strings to recognize as NA/NaN. If dict passed, specific\n",
      "        per-column NA values.  By default the following values are interpreted as\n",
      "        NaN: '', '#N/A', '#N/A N/A', '#NA', '-1.#IND', '-1.#QNAN', '-NaN', '-nan',\n",
      "        '1.#IND', '1.#QNAN', 'N/A', 'NA', 'NULL', 'NaN', 'n/a', 'nan',\n",
      "        'null'.\n",
      "    keep_default_na : bool, default True\n",
      "        Whether or not to include the default NaN values when parsing the data.\n",
      "        Depending on whether `na_values` is passed in, the behavior is as follows:\n",
      "    \n",
      "        * If `keep_default_na` is True, and `na_values` are specified, `na_values`\n",
      "          is appended to the default NaN values used for parsing.\n",
      "        * If `keep_default_na` is True, and `na_values` are not specified, only\n",
      "          the default NaN values are used for parsing.\n",
      "        * If `keep_default_na` is False, and `na_values` are specified, only\n",
      "          the NaN values specified `na_values` are used for parsing.\n",
      "        * If `keep_default_na` is False, and `na_values` are not specified, no\n",
      "          strings will be parsed as NaN.\n",
      "    \n",
      "        Note that if `na_filter` is passed in as False, the `keep_default_na` and\n",
      "        `na_values` parameters will be ignored.\n",
      "    na_filter : boolean, default True\n",
      "        Detect missing value markers (empty strings and the value of na_values). In\n",
      "        data without any NAs, passing na_filter=False can improve the performance\n",
      "        of reading a large file\n",
      "    verbose : boolean, default False\n",
      "        Indicate number of NA values placed in non-numeric columns\n",
      "    skip_blank_lines : boolean, default True\n",
      "        If True, skip over blank lines rather than interpreting as NaN values\n",
      "    parse_dates : boolean or list of ints or names or list of lists or dict, default False\n",
      "    \n",
      "        * boolean. If True -> try parsing the index.\n",
      "        * list of ints or names. e.g. If [1, 2, 3] -> try parsing columns 1, 2, 3\n",
      "          each as a separate date column.\n",
      "        * list of lists. e.g.  If [[1, 3]] -> combine columns 1 and 3 and parse as\n",
      "          a single date column.\n",
      "        * dict, e.g. {'foo' : [1, 3]} -> parse columns 1, 3 as date and call result\n",
      "          'foo'\n",
      "    \n",
      "        If a column or index contains an unparseable date, the entire column or\n",
      "        index will be returned unaltered as an object data type. For non-standard\n",
      "        datetime parsing, use ``pd.to_datetime`` after ``pd.read_csv``\n",
      "    \n",
      "        Note: A fast-path exists for iso8601-formatted dates.\n",
      "    infer_datetime_format : boolean, default False\n",
      "        If True and `parse_dates` is enabled, pandas will attempt to infer the\n",
      "        format of the datetime strings in the columns, and if it can be inferred,\n",
      "        switch to a faster method of parsing them. In some cases this can increase\n",
      "        the parsing speed by 5-10x.\n",
      "    keep_date_col : boolean, default False\n",
      "        If True and `parse_dates` specifies combining multiple columns then\n",
      "        keep the original columns.\n",
      "    date_parser : function, default None\n",
      "        Function to use for converting a sequence of string columns to an array of\n",
      "        datetime instances. The default uses ``dateutil.parser.parser`` to do the\n",
      "        conversion. Pandas will try to call `date_parser` in three different ways,\n",
      "        advancing to the next if an exception occurs: 1) Pass one or more arrays\n",
      "        (as defined by `parse_dates`) as arguments; 2) concatenate (row-wise) the\n",
      "        string values from the columns defined by `parse_dates` into a single array\n",
      "        and pass that; and 3) call `date_parser` once for each row using one or\n",
      "        more strings (corresponding to the columns defined by `parse_dates`) as\n",
      "        arguments.\n",
      "    dayfirst : boolean, default False\n",
      "        DD/MM format dates, international and European format\n",
      "    iterator : boolean, default False\n",
      "        Return TextFileReader object for iteration or getting chunks with\n",
      "        ``get_chunk()``.\n",
      "    chunksize : int, default None\n",
      "        Return TextFileReader object for iteration.\n",
      "        See the `IO Tools docs\n",
      "        <http://pandas.pydata.org/pandas-docs/stable/io.html#io-chunking>`_\n",
      "        for more information on ``iterator`` and ``chunksize``.\n",
      "    compression : {'infer', 'gzip', 'bz2', 'zip', 'xz', None}, default 'infer'\n",
      "        For on-the-fly decompression of on-disk data. If 'infer' and\n",
      "        `filepath_or_buffer` is path-like, then detect compression from the\n",
      "        following extensions: '.gz', '.bz2', '.zip', or '.xz' (otherwise no\n",
      "        decompression). If using 'zip', the ZIP file must contain only one data\n",
      "        file to be read in. Set to None for no decompression.\n",
      "    \n",
      "        .. versionadded:: 0.18.1 support for 'zip' and 'xz' compression.\n",
      "    \n",
      "    thousands : str, default None\n",
      "        Thousands separator\n",
      "    decimal : str, default '.'\n",
      "        Character to recognize as decimal point (e.g. use ',' for European data).\n",
      "    float_precision : string, default None\n",
      "        Specifies which converter the C engine should use for floating-point\n",
      "        values. The options are `None` for the ordinary converter,\n",
      "        `high` for the high-precision converter, and `round_trip` for the\n",
      "        round-trip converter.\n",
      "    lineterminator : str (length 1), default None\n",
      "        Character to break file into lines. Only valid with C parser.\n",
      "    quotechar : str (length 1), optional\n",
      "        The character used to denote the start and end of a quoted item. Quoted\n",
      "        items can include the delimiter and it will be ignored.\n",
      "    quoting : int or csv.QUOTE_* instance, default 0\n",
      "        Control field quoting behavior per ``csv.QUOTE_*`` constants. Use one of\n",
      "        QUOTE_MINIMAL (0), QUOTE_ALL (1), QUOTE_NONNUMERIC (2) or QUOTE_NONE (3).\n",
      "    doublequote : boolean, default ``True``\n",
      "       When quotechar is specified and quoting is not ``QUOTE_NONE``, indicate\n",
      "       whether or not to interpret two consecutive quotechar elements INSIDE a\n",
      "       field as a single ``quotechar`` element.\n",
      "    escapechar : str (length 1), default None\n",
      "        One-character string used to escape delimiter when quoting is QUOTE_NONE.\n",
      "    comment : str, default None\n",
      "        Indicates remainder of line should not be parsed. If found at the beginning\n",
      "        of a line, the line will be ignored altogether. This parameter must be a\n",
      "        single character. Like empty lines (as long as ``skip_blank_lines=True``),\n",
      "        fully commented lines are ignored by the parameter `header` but not by\n",
      "        `skiprows`. For example, if ``comment='#'``, parsing\n",
      "        ``#empty\\na,b,c\\n1,2,3`` with ``header=0`` will result in 'a,b,c' being\n",
      "        treated as the header.\n",
      "    encoding : str, default None\n",
      "        Encoding to use for UTF when reading/writing (ex. 'utf-8'). `List of Python\n",
      "        standard encodings\n",
      "        <https://docs.python.org/3/library/codecs.html#standard-encodings>`_\n",
      "    dialect : str or csv.Dialect instance, default None\n",
      "        If provided, this parameter will override values (default or not) for the\n",
      "        following parameters: `delimiter`, `doublequote`, `escapechar`,\n",
      "        `skipinitialspace`, `quotechar`, and `quoting`. If it is necessary to\n",
      "        override values, a ParserWarning will be issued. See csv.Dialect\n",
      "        documentation for more details.\n",
      "    tupleize_cols : boolean, default False\n",
      "        .. deprecated:: 0.21.0\n",
      "           This argument will be removed and will always convert to MultiIndex\n",
      "    \n",
      "        Leave a list of tuples on columns as is (default is to convert to\n",
      "        a MultiIndex on the columns)\n",
      "    error_bad_lines : boolean, default True\n",
      "        Lines with too many fields (e.g. a csv line with too many commas) will by\n",
      "        default cause an exception to be raised, and no DataFrame will be returned.\n",
      "        If False, then these \"bad lines\" will dropped from the DataFrame that is\n",
      "        returned.\n",
      "    warn_bad_lines : boolean, default True\n",
      "        If error_bad_lines is False, and warn_bad_lines is True, a warning for each\n",
      "        \"bad line\" will be output.\n",
      "    low_memory : boolean, default True\n",
      "        Internally process the file in chunks, resulting in lower memory use\n",
      "        while parsing, but possibly mixed type inference.  To ensure no mixed\n",
      "        types either set False, or specify the type with the `dtype` parameter.\n",
      "        Note that the entire file is read into a single DataFrame regardless,\n",
      "        use the `chunksize` or `iterator` parameter to return the data in chunks.\n",
      "        (Only valid with C parser)\n",
      "    memory_map : boolean, default False\n",
      "        If a filepath is provided for `filepath_or_buffer`, map the file object\n",
      "        directly onto memory and access the data directly from there. Using this\n",
      "        option can improve performance because there is no longer any I/O overhead.\n",
      "    \n",
      "    Returns\n",
      "    -------\n",
      "    result : DataFrame or TextParser\n",
      "\n"
     ]
    }
   ],
   "source": [
    "help(pd.read_csv)"
   ]
  },
  {
   "cell_type": "code",
   "execution_count": 10,
   "metadata": {},
   "outputs": [
    {
     "name": "stdout",
     "output_type": "stream",
     "text": [
      "5.002461671829224\n"
     ]
    }
   ],
   "source": [
    "import time \n",
    "\n",
    "st=time.time()\n",
    "for i in range(5):\n",
    "    time.sleep(1)\n",
    "    \n",
    "et=time.time()\n",
    "print(et-st)"
   ]
  },
  {
   "cell_type": "code",
   "execution_count": null,
   "metadata": {},
   "outputs": [],
   "source": []
  }
 ],
 "metadata": {
  "kernelspec": {
   "display_name": "Python 3",
   "language": "python",
   "name": "python3"
  },
  "language_info": {
   "codemirror_mode": {
    "name": "ipython",
    "version": 3
   },
   "file_extension": ".py",
   "mimetype": "text/x-python",
   "name": "python",
   "nbconvert_exporter": "python",
   "pygments_lexer": "ipython3",
   "version": "3.6.6"
  }
 },
 "nbformat": 4,
 "nbformat_minor": 2
}
